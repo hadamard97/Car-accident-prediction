{
 "cells": [
  {
   "cell_type": "markdown",
   "metadata": {},
   "source": [
    "# <font color='red'> Car accident prediction"
   ]
  },
  {
   "cell_type": "markdown",
   "metadata": {},
   "source": [
    "The aim of this notebook is to predict whether clients of an insurance company were involved in a car crash, using their personal folders and service records. We will implement classification algorithms after an appropriate processing of the data."
   ]
  },
  {
   "cell_type": "markdown",
   "metadata": {},
   "source": [
    "## <font color='grey'> Importing libraries"
   ]
  },
  {
   "cell_type": "code",
   "execution_count": 149,
   "metadata": {},
   "outputs": [],
   "source": [
    "import numpy as np # linear algebra\n",
    "import pandas as pd # data processing, CSV file I/O (e.g. pd.read_csv)\n",
    "import matplotlib.pyplot as plt\n",
    "import seaborn as sns\n",
    "from sklearn.manifold import TSNE\n",
    "from sklearn.decomposition import PCA, TruncatedSVD\n",
    "import matplotlib.patches as mpatches\n",
    "import time\n",
    "import collections\n",
    "\n",
    "# Classifier Libraries\n",
    "from sklearn.linear_model import LogisticRegression\n",
    "from sklearn.svm import SVC\n",
    "from sklearn.ensemble import RandomForestClassifier\n",
    "from pandas.plotting import scatter_matrix\n",
    "from sklearn.metrics import classification_report\n",
    "from sklearn.metrics import confusion_matrix\n",
    "from sklearn.metrics import accuracy_score\n",
    "from sklearn.linear_model import LogisticRegression\n",
    "from sklearn.tree import DecisionTreeClassifier\n",
    "from sklearn.neighbors import KNeighborsClassifier\n",
    "from sklearn.discriminant_analysis import LinearDiscriminantAnalysis\n",
    "from sklearn.naive_bayes import GaussianNB\n",
    "from sklearn.ensemble import ExtraTreesClassifier\n",
    "from sklearn.linear_model import SGDClassifier\n",
    "from sklearn.neural_network import MLPClassifier\n",
    "from sklearn.linear_model import RidgeClassifier\n",
    "from sklearn.ensemble import BaggingClassifier\n",
    "\n",
    "\n",
    "# Data Processing Libraries\n",
    "from sklearn.model_selection import train_test_split\n",
    "from sklearn.pipeline import make_pipeline\n",
    "from imblearn.pipeline import make_pipeline as imbalanced_make_pipeline\n",
    "from imblearn.over_sampling import SMOTE\n",
    "from imblearn.under_sampling import NearMiss\n",
    "from imblearn.metrics import classification_report_imbalanced\n",
    "from sklearn.metrics import precision_score, recall_score, f1_score, roc_auc_score, accuracy_score, classification_report\n",
    "from collections import Counter\n",
    "from sklearn.model_selection import KFold, StratifiedKFold\n",
    "import warnings\n",
    "warnings.filterwarnings(\"ignore\")"
   ]
  },
  {
   "cell_type": "markdown",
   "metadata": {},
   "source": [
    "## <font color='grey'> Loading training and test tests"
   ]
  },
  {
   "cell_type": "code",
   "execution_count": 150,
   "metadata": {},
   "outputs": [],
   "source": [
    "df_train = pd.read_csv('C:\\\\Users\\\\Hadamard\\\\Downloads\\\\Test technique Descartes Underwriting\\\\train_auto.csv')\n",
    "df_test = pd.read_csv('C:\\\\Users\\\\Hadamard\\\\Downloads\\\\Test technique Descartes Underwriting\\\\test_auto.csv')"
   ]
  },
  {
   "cell_type": "code",
   "execution_count": 151,
   "metadata": {},
   "outputs": [],
   "source": [
    "pd.set_option('display.max_columns', None)"
   ]
  },
  {
   "cell_type": "code",
   "execution_count": 152,
   "metadata": {},
   "outputs": [
    {
     "data": {
      "text/html": [
       "<div>\n",
       "<style scoped>\n",
       "    .dataframe tbody tr th:only-of-type {\n",
       "        vertical-align: middle;\n",
       "    }\n",
       "\n",
       "    .dataframe tbody tr th {\n",
       "        vertical-align: top;\n",
       "    }\n",
       "\n",
       "    .dataframe thead th {\n",
       "        text-align: right;\n",
       "    }\n",
       "</style>\n",
       "<table border=\"1\" class=\"dataframe\">\n",
       "  <thead>\n",
       "    <tr style=\"text-align: right;\">\n",
       "      <th></th>\n",
       "      <th>INDEX</th>\n",
       "      <th>TARGET_FLAG</th>\n",
       "      <th>TARGET_AMT</th>\n",
       "      <th>KIDSDRIV</th>\n",
       "      <th>AGE</th>\n",
       "      <th>HOMEKIDS</th>\n",
       "      <th>YOJ</th>\n",
       "      <th>INCOME</th>\n",
       "      <th>PARENT1</th>\n",
       "      <th>HOME_VAL</th>\n",
       "      <th>MSTATUS</th>\n",
       "      <th>SEX</th>\n",
       "      <th>EDUCATION</th>\n",
       "      <th>JOB</th>\n",
       "      <th>TRAVTIME</th>\n",
       "      <th>CAR_USE</th>\n",
       "      <th>BLUEBOOK</th>\n",
       "      <th>TIF</th>\n",
       "      <th>CAR_TYPE</th>\n",
       "      <th>RED_CAR</th>\n",
       "      <th>OLDCLAIM</th>\n",
       "      <th>CLM_FREQ</th>\n",
       "      <th>REVOKED</th>\n",
       "      <th>MVR_PTS</th>\n",
       "      <th>CAR_AGE</th>\n",
       "      <th>URBANICITY</th>\n",
       "    </tr>\n",
       "  </thead>\n",
       "  <tbody>\n",
       "    <tr>\n",
       "      <th>0</th>\n",
       "      <td>1</td>\n",
       "      <td>0</td>\n",
       "      <td>0.0</td>\n",
       "      <td>0</td>\n",
       "      <td>60.0</td>\n",
       "      <td>0</td>\n",
       "      <td>11.0</td>\n",
       "      <td>$67,349</td>\n",
       "      <td>No</td>\n",
       "      <td>$0</td>\n",
       "      <td>z_No</td>\n",
       "      <td>M</td>\n",
       "      <td>PhD</td>\n",
       "      <td>Professional</td>\n",
       "      <td>14</td>\n",
       "      <td>Private</td>\n",
       "      <td>$14,230</td>\n",
       "      <td>11</td>\n",
       "      <td>Minivan</td>\n",
       "      <td>yes</td>\n",
       "      <td>$4,461</td>\n",
       "      <td>2</td>\n",
       "      <td>No</td>\n",
       "      <td>3</td>\n",
       "      <td>18.0</td>\n",
       "      <td>Highly Urban/ Urban</td>\n",
       "    </tr>\n",
       "    <tr>\n",
       "      <th>1</th>\n",
       "      <td>2</td>\n",
       "      <td>0</td>\n",
       "      <td>0.0</td>\n",
       "      <td>0</td>\n",
       "      <td>43.0</td>\n",
       "      <td>0</td>\n",
       "      <td>11.0</td>\n",
       "      <td>$91,449</td>\n",
       "      <td>No</td>\n",
       "      <td>$257,252</td>\n",
       "      <td>z_No</td>\n",
       "      <td>M</td>\n",
       "      <td>z_High School</td>\n",
       "      <td>z_Blue Collar</td>\n",
       "      <td>22</td>\n",
       "      <td>Commercial</td>\n",
       "      <td>$14,940</td>\n",
       "      <td>1</td>\n",
       "      <td>Minivan</td>\n",
       "      <td>yes</td>\n",
       "      <td>$0</td>\n",
       "      <td>0</td>\n",
       "      <td>No</td>\n",
       "      <td>0</td>\n",
       "      <td>1.0</td>\n",
       "      <td>Highly Urban/ Urban</td>\n",
       "    </tr>\n",
       "    <tr>\n",
       "      <th>2</th>\n",
       "      <td>4</td>\n",
       "      <td>0</td>\n",
       "      <td>0.0</td>\n",
       "      <td>0</td>\n",
       "      <td>35.0</td>\n",
       "      <td>1</td>\n",
       "      <td>10.0</td>\n",
       "      <td>$16,039</td>\n",
       "      <td>No</td>\n",
       "      <td>$124,191</td>\n",
       "      <td>Yes</td>\n",
       "      <td>z_F</td>\n",
       "      <td>z_High School</td>\n",
       "      <td>Clerical</td>\n",
       "      <td>5</td>\n",
       "      <td>Private</td>\n",
       "      <td>$4,010</td>\n",
       "      <td>4</td>\n",
       "      <td>z_SUV</td>\n",
       "      <td>no</td>\n",
       "      <td>$38,690</td>\n",
       "      <td>2</td>\n",
       "      <td>No</td>\n",
       "      <td>3</td>\n",
       "      <td>10.0</td>\n",
       "      <td>Highly Urban/ Urban</td>\n",
       "    </tr>\n",
       "    <tr>\n",
       "      <th>3</th>\n",
       "      <td>5</td>\n",
       "      <td>0</td>\n",
       "      <td>0.0</td>\n",
       "      <td>0</td>\n",
       "      <td>51.0</td>\n",
       "      <td>0</td>\n",
       "      <td>14.0</td>\n",
       "      <td>NaN</td>\n",
       "      <td>No</td>\n",
       "      <td>$306,251</td>\n",
       "      <td>Yes</td>\n",
       "      <td>M</td>\n",
       "      <td>&lt;High School</td>\n",
       "      <td>z_Blue Collar</td>\n",
       "      <td>32</td>\n",
       "      <td>Private</td>\n",
       "      <td>$15,440</td>\n",
       "      <td>7</td>\n",
       "      <td>Minivan</td>\n",
       "      <td>yes</td>\n",
       "      <td>$0</td>\n",
       "      <td>0</td>\n",
       "      <td>No</td>\n",
       "      <td>0</td>\n",
       "      <td>6.0</td>\n",
       "      <td>Highly Urban/ Urban</td>\n",
       "    </tr>\n",
       "    <tr>\n",
       "      <th>4</th>\n",
       "      <td>6</td>\n",
       "      <td>0</td>\n",
       "      <td>0.0</td>\n",
       "      <td>0</td>\n",
       "      <td>50.0</td>\n",
       "      <td>0</td>\n",
       "      <td>NaN</td>\n",
       "      <td>$114,986</td>\n",
       "      <td>No</td>\n",
       "      <td>$243,925</td>\n",
       "      <td>Yes</td>\n",
       "      <td>z_F</td>\n",
       "      <td>PhD</td>\n",
       "      <td>Doctor</td>\n",
       "      <td>36</td>\n",
       "      <td>Private</td>\n",
       "      <td>$18,000</td>\n",
       "      <td>1</td>\n",
       "      <td>z_SUV</td>\n",
       "      <td>no</td>\n",
       "      <td>$19,217</td>\n",
       "      <td>2</td>\n",
       "      <td>Yes</td>\n",
       "      <td>3</td>\n",
       "      <td>17.0</td>\n",
       "      <td>Highly Urban/ Urban</td>\n",
       "    </tr>\n",
       "  </tbody>\n",
       "</table>\n",
       "</div>"
      ],
      "text/plain": [
       "   INDEX  TARGET_FLAG  TARGET_AMT  KIDSDRIV   AGE  HOMEKIDS   YOJ     INCOME  \\\n",
       "0      1            0         0.0         0  60.0         0  11.0   $67,349    \n",
       "1      2            0         0.0         0  43.0         0  11.0   $91,449    \n",
       "2      4            0         0.0         0  35.0         1  10.0   $16,039    \n",
       "3      5            0         0.0         0  51.0         0  14.0        NaN   \n",
       "4      6            0         0.0         0  50.0         0   NaN  $114,986    \n",
       "\n",
       "  PARENT1   HOME_VAL MSTATUS  SEX      EDUCATION            JOB  TRAVTIME  \\\n",
       "0      No        $0     z_No    M            PhD   Professional        14   \n",
       "1      No  $257,252     z_No    M  z_High School  z_Blue Collar        22   \n",
       "2      No  $124,191      Yes  z_F  z_High School       Clerical         5   \n",
       "3      No  $306,251      Yes    M   <High School  z_Blue Collar        32   \n",
       "4      No  $243,925      Yes  z_F            PhD         Doctor        36   \n",
       "\n",
       "      CAR_USE  BLUEBOOK  TIF CAR_TYPE RED_CAR  OLDCLAIM  CLM_FREQ REVOKED  \\\n",
       "0     Private  $14,230    11  Minivan     yes   $4,461          2      No   \n",
       "1  Commercial  $14,940     1  Minivan     yes       $0          0      No   \n",
       "2     Private   $4,010     4    z_SUV      no  $38,690          2      No   \n",
       "3     Private  $15,440     7  Minivan     yes       $0          0      No   \n",
       "4     Private  $18,000     1    z_SUV      no  $19,217          2     Yes   \n",
       "\n",
       "   MVR_PTS  CAR_AGE           URBANICITY  \n",
       "0        3     18.0  Highly Urban/ Urban  \n",
       "1        0      1.0  Highly Urban/ Urban  \n",
       "2        3     10.0  Highly Urban/ Urban  \n",
       "3        0      6.0  Highly Urban/ Urban  \n",
       "4        3     17.0  Highly Urban/ Urban  "
      ]
     },
     "execution_count": 152,
     "metadata": {},
     "output_type": "execute_result"
    }
   ],
   "source": [
    "df_train.head()"
   ]
  },
  {
   "cell_type": "markdown",
   "metadata": {},
   "source": [
    "###   We have 3 types of variables :\n",
    "\n",
    "\n",
    "* **Numerical** : TARGET_FLAG (to predict), TARGET_AMT (another variable to predict : the cost of the accident), KIDSDRIV, AGE, HOMEKIDS, YOJ, INCOME, PARENT1, HOME_VAL, TRAVTIME, BLEUBOOK, TIF, OLDCLAIM, CLM_FREQ, MVR_PTS, CAR_AGE\n",
    "* **Binary** : SEX, PARENT1, MSTATUS, CAR_USE, RED_CAR, REVOKED, URBANICITY\n",
    "* **Categorical** : EDUCATION, JOB, CAR_TYPE\n",
    "    \n",
    "    "
   ]
  },
  {
   "cell_type": "markdown",
   "metadata": {},
   "source": [
    "##  <font color='grey'> Distribution of the target variable (TARGET_FLAG) indiquant si un accident s'est produit"
   ]
  },
  {
   "cell_type": "code",
   "execution_count": 153,
   "metadata": {},
   "outputs": [
    {
     "data": {
      "text/plain": [
       "<AxesSubplot:>"
      ]
     },
     "execution_count": 153,
     "metadata": {},
     "output_type": "execute_result"
    },
    {
     "data": {
      "image/png": "[encoded data removed]",
      "text/plain": [
       "<Figure size 432x288 with 1 Axes>"
      ]
     },
     "metadata": {
      "needs_background": "light"
     },
     "output_type": "display_data"
    }
   ],
   "source": [
    "df_train['TARGET_FLAG'].value_counts().plot(kind=\"bar\", color=[\"salmon\", \"lightblue\"])"
   ]
  },
  {
   "cell_type": "markdown",
   "metadata": {},
   "source": [
    "#### Roughly 3 quarters of the train set (~74%) of the training set is associated with an accident : the imbalance is relatively mild. Therefore, in the first instance, we will not treat this problem with the usual imbalanced data classification tools (such as oversampling and undersampling)."
   ]
  },
  {
   "cell_type": "markdown",
   "metadata": {},
   "source": [
    "##  <font color='grey'> Some statistics for the training and test sets"
   ]
  },
  {
   "cell_type": "code",
   "execution_count": 154,
   "metadata": {},
   "outputs": [
    {
     "data": {
      "text/html": [
       "<div>\n",
       "<style scoped>\n",
       "    .dataframe tbody tr th:only-of-type {\n",
       "        vertical-align: middle;\n",
       "    }\n",
       "\n",
       "    .dataframe tbody tr th {\n",
       "        vertical-align: top;\n",
       "    }\n",
       "\n",
       "    .dataframe thead th {\n",
       "        text-align: right;\n",
       "    }\n",
       "</style>\n",
       "<table border=\"1\" class=\"dataframe\">\n",
       "  <thead>\n",
       "    <tr style=\"text-align: right;\">\n",
       "      <th></th>\n",
       "      <th>INDEX</th>\n",
       "      <th>TARGET_FLAG</th>\n",
       "      <th>TARGET_AMT</th>\n",
       "      <th>KIDSDRIV</th>\n",
       "      <th>AGE</th>\n",
       "      <th>HOMEKIDS</th>\n",
       "      <th>YOJ</th>\n",
       "      <th>TRAVTIME</th>\n",
       "      <th>TIF</th>\n",
       "      <th>CLM_FREQ</th>\n",
       "      <th>MVR_PTS</th>\n",
       "      <th>CAR_AGE</th>\n",
       "    </tr>\n",
       "  </thead>\n",
       "  <tbody>\n",
       "    <tr>\n",
       "      <th>count</th>\n",
       "      <td>8161.000000</td>\n",
       "      <td>8161.000000</td>\n",
       "      <td>8161.000000</td>\n",
       "      <td>8161.000000</td>\n",
       "      <td>8155.000000</td>\n",
       "      <td>8161.000000</td>\n",
       "      <td>7707.000000</td>\n",
       "      <td>8161.000000</td>\n",
       "      <td>8161.000000</td>\n",
       "      <td>8161.000000</td>\n",
       "      <td>8161.000000</td>\n",
       "      <td>7651.000000</td>\n",
       "    </tr>\n",
       "    <tr>\n",
       "      <th>mean</th>\n",
       "      <td>5151.867663</td>\n",
       "      <td>0.263816</td>\n",
       "      <td>1504.324648</td>\n",
       "      <td>0.171057</td>\n",
       "      <td>44.790313</td>\n",
       "      <td>0.721235</td>\n",
       "      <td>10.499286</td>\n",
       "      <td>33.485725</td>\n",
       "      <td>5.351305</td>\n",
       "      <td>0.798554</td>\n",
       "      <td>1.695503</td>\n",
       "      <td>8.328323</td>\n",
       "    </tr>\n",
       "    <tr>\n",
       "      <th>std</th>\n",
       "      <td>2978.893962</td>\n",
       "      <td>0.440728</td>\n",
       "      <td>4704.026930</td>\n",
       "      <td>0.511534</td>\n",
       "      <td>8.627589</td>\n",
       "      <td>1.116323</td>\n",
       "      <td>4.092474</td>\n",
       "      <td>15.908333</td>\n",
       "      <td>4.146635</td>\n",
       "      <td>1.158453</td>\n",
       "      <td>2.147112</td>\n",
       "      <td>5.700742</td>\n",
       "    </tr>\n",
       "    <tr>\n",
       "      <th>min</th>\n",
       "      <td>1.000000</td>\n",
       "      <td>0.000000</td>\n",
       "      <td>0.000000</td>\n",
       "      <td>0.000000</td>\n",
       "      <td>16.000000</td>\n",
       "      <td>0.000000</td>\n",
       "      <td>0.000000</td>\n",
       "      <td>5.000000</td>\n",
       "      <td>1.000000</td>\n",
       "      <td>0.000000</td>\n",
       "      <td>0.000000</td>\n",
       "      <td>-3.000000</td>\n",
       "    </tr>\n",
       "    <tr>\n",
       "      <th>25%</th>\n",
       "      <td>2559.000000</td>\n",
       "      <td>0.000000</td>\n",
       "      <td>0.000000</td>\n",
       "      <td>0.000000</td>\n",
       "      <td>39.000000</td>\n",
       "      <td>0.000000</td>\n",
       "      <td>9.000000</td>\n",
       "      <td>22.000000</td>\n",
       "      <td>1.000000</td>\n",
       "      <td>0.000000</td>\n",
       "      <td>0.000000</td>\n",
       "      <td>1.000000</td>\n",
       "    </tr>\n",
       "    <tr>\n",
       "      <th>50%</th>\n",
       "      <td>5133.000000</td>\n",
       "      <td>0.000000</td>\n",
       "      <td>0.000000</td>\n",
       "      <td>0.000000</td>\n",
       "      <td>45.000000</td>\n",
       "      <td>0.000000</td>\n",
       "      <td>11.000000</td>\n",
       "      <td>33.000000</td>\n",
       "      <td>4.000000</td>\n",
       "      <td>0.000000</td>\n",
       "      <td>1.000000</td>\n",
       "      <td>8.000000</td>\n",
       "    </tr>\n",
       "    <tr>\n",
       "      <th>75%</th>\n",
       "      <td>7745.000000</td>\n",
       "      <td>1.000000</td>\n",
       "      <td>1036.000000</td>\n",
       "      <td>0.000000</td>\n",
       "      <td>51.000000</td>\n",
       "      <td>1.000000</td>\n",
       "      <td>13.000000</td>\n",
       "      <td>44.000000</td>\n",
       "      <td>7.000000</td>\n",
       "      <td>2.000000</td>\n",
       "      <td>3.000000</td>\n",
       "      <td>12.000000</td>\n",
       "    </tr>\n",
       "    <tr>\n",
       "      <th>max</th>\n",
       "      <td>10302.000000</td>\n",
       "      <td>1.000000</td>\n",
       "      <td>107586.136200</td>\n",
       "      <td>4.000000</td>\n",
       "      <td>81.000000</td>\n",
       "      <td>5.000000</td>\n",
       "      <td>23.000000</td>\n",
       "      <td>142.000000</td>\n",
       "      <td>25.000000</td>\n",
       "      <td>5.000000</td>\n",
       "      <td>13.000000</td>\n",
       "      <td>28.000000</td>\n",
       "    </tr>\n",
       "  </tbody>\n",
       "</table>\n",
       "</div>"
      ],
      "text/plain": [
       "              INDEX  TARGET_FLAG     TARGET_AMT     KIDSDRIV          AGE  \\\n",
       "count   8161.000000  8161.000000    8161.000000  8161.000000  8155.000000   \n",
       "mean    5151.867663     0.263816    1504.324648     0.171057    44.790313   \n",
       "std     2978.893962     0.440728    4704.026930     0.511534     8.627589   \n",
       "min        1.000000     0.000000       0.000000     0.000000    16.000000   \n",
       "25%     2559.000000     0.000000       0.000000     0.000000    39.000000   \n",
       "50%     5133.000000     0.000000       0.000000     0.000000    45.000000   \n",
       "75%     7745.000000     1.000000    1036.000000     0.000000    51.000000   \n",
       "max    10302.000000     1.000000  107586.136200     4.000000    81.000000   \n",
       "\n",
       "          HOMEKIDS          YOJ     TRAVTIME          TIF     CLM_FREQ  \\\n",
       "count  8161.000000  7707.000000  8161.000000  8161.000000  8161.000000   \n",
       "mean      0.721235    10.499286    33.485725     5.351305     0.798554   \n",
       "std       1.116323     4.092474    15.908333     4.146635     1.158453   \n",
       "min       0.000000     0.000000     5.000000     1.000000     0.000000   \n",
       "25%       0.000000     9.000000    22.000000     1.000000     0.000000   \n",
       "50%       0.000000    11.000000    33.000000     4.000000     0.000000   \n",
       "75%       1.000000    13.000000    44.000000     7.000000     2.000000   \n",
       "max       5.000000    23.000000   142.000000    25.000000     5.000000   \n",
       "\n",
       "           MVR_PTS      CAR_AGE  \n",
       "count  8161.000000  7651.000000  \n",
       "mean      1.695503     8.328323  \n",
       "std       2.147112     5.700742  \n",
       "min       0.000000    -3.000000  \n",
       "25%       0.000000     1.000000  \n",
       "50%       1.000000     8.000000  \n",
       "75%       3.000000    12.000000  \n",
       "max      13.000000    28.000000  "
      ]
     },
     "execution_count": 154,
     "metadata": {},
     "output_type": "execute_result"
    }
   ],
   "source": [
    "df_train.describe()"
   ]
  },
  {
   "cell_type": "markdown",
   "metadata": {},
   "source": [
    "#### I spotted a negative value for CAR_AGE (-3) : clearly an outlier. Nevertheless it is the only strictly negative value in the training set (I haven't processed yet the amount variables)"
   ]
  },
  {
   "cell_type": "code",
   "execution_count": 155,
   "metadata": {},
   "outputs": [
    {
     "data": {
      "text/plain": [
       "1"
      ]
     },
     "execution_count": 155,
     "metadata": {},
     "output_type": "execute_result"
    }
   ],
   "source": [
    "sum(n < 0 for n in df_train.select_dtypes(include=['float64','int64']).values.flatten())"
   ]
  },
  {
   "cell_type": "code",
   "execution_count": 156,
   "metadata": {},
   "outputs": [],
   "source": [
    "df_test.drop(columns=['TARGET_FLAG','TARGET_AMT'],axis=1,inplace=True)"
   ]
  },
  {
   "cell_type": "code",
   "execution_count": 157,
   "metadata": {},
   "outputs": [
    {
     "data": {
      "text/html": [
       "<div>\n",
       "<style scoped>\n",
       "    .dataframe tbody tr th:only-of-type {\n",
       "        vertical-align: middle;\n",
       "    }\n",
       "\n",
       "    .dataframe tbody tr th {\n",
       "        vertical-align: top;\n",
       "    }\n",
       "\n",
       "    .dataframe thead th {\n",
       "        text-align: right;\n",
       "    }\n",
       "</style>\n",
       "<table border=\"1\" class=\"dataframe\">\n",
       "  <thead>\n",
       "    <tr style=\"text-align: right;\">\n",
       "      <th></th>\n",
       "      <th>INDEX</th>\n",
       "      <th>KIDSDRIV</th>\n",
       "      <th>AGE</th>\n",
       "      <th>HOMEKIDS</th>\n",
       "      <th>YOJ</th>\n",
       "      <th>TRAVTIME</th>\n",
       "      <th>TIF</th>\n",
       "      <th>CLM_FREQ</th>\n",
       "      <th>MVR_PTS</th>\n",
       "      <th>CAR_AGE</th>\n",
       "    </tr>\n",
       "  </thead>\n",
       "  <tbody>\n",
       "    <tr>\n",
       "      <th>count</th>\n",
       "      <td>2141.000000</td>\n",
       "      <td>2141.000000</td>\n",
       "      <td>2140.000000</td>\n",
       "      <td>2141.000000</td>\n",
       "      <td>2047.000000</td>\n",
       "      <td>2141.000000</td>\n",
       "      <td>2141.000000</td>\n",
       "      <td>2141.000000</td>\n",
       "      <td>2141.000000</td>\n",
       "      <td>2012.000000</td>\n",
       "    </tr>\n",
       "    <tr>\n",
       "      <th>mean</th>\n",
       "      <td>5150.098552</td>\n",
       "      <td>0.162541</td>\n",
       "      <td>45.016822</td>\n",
       "      <td>0.717422</td>\n",
       "      <td>10.379091</td>\n",
       "      <td>33.152265</td>\n",
       "      <td>5.244745</td>\n",
       "      <td>0.808968</td>\n",
       "      <td>1.765997</td>\n",
       "      <td>8.183400</td>\n",
       "    </tr>\n",
       "    <tr>\n",
       "      <th>std</th>\n",
       "      <td>2956.329272</td>\n",
       "      <td>0.486949</td>\n",
       "      <td>8.525006</td>\n",
       "      <td>1.116579</td>\n",
       "      <td>4.170008</td>\n",
       "      <td>15.722393</td>\n",
       "      <td>3.971026</td>\n",
       "      <td>1.137481</td>\n",
       "      <td>2.203413</td>\n",
       "      <td>5.766263</td>\n",
       "    </tr>\n",
       "    <tr>\n",
       "      <th>min</th>\n",
       "      <td>3.000000</td>\n",
       "      <td>0.000000</td>\n",
       "      <td>17.000000</td>\n",
       "      <td>0.000000</td>\n",
       "      <td>0.000000</td>\n",
       "      <td>5.000000</td>\n",
       "      <td>1.000000</td>\n",
       "      <td>0.000000</td>\n",
       "      <td>0.000000</td>\n",
       "      <td>0.000000</td>\n",
       "    </tr>\n",
       "    <tr>\n",
       "      <th>25%</th>\n",
       "      <td>2632.000000</td>\n",
       "      <td>0.000000</td>\n",
       "      <td>39.000000</td>\n",
       "      <td>0.000000</td>\n",
       "      <td>9.000000</td>\n",
       "      <td>22.000000</td>\n",
       "      <td>1.000000</td>\n",
       "      <td>0.000000</td>\n",
       "      <td>0.000000</td>\n",
       "      <td>1.000000</td>\n",
       "    </tr>\n",
       "    <tr>\n",
       "      <th>50%</th>\n",
       "      <td>5224.000000</td>\n",
       "      <td>0.000000</td>\n",
       "      <td>45.000000</td>\n",
       "      <td>0.000000</td>\n",
       "      <td>11.000000</td>\n",
       "      <td>33.000000</td>\n",
       "      <td>4.000000</td>\n",
       "      <td>0.000000</td>\n",
       "      <td>1.000000</td>\n",
       "      <td>8.000000</td>\n",
       "    </tr>\n",
       "    <tr>\n",
       "      <th>75%</th>\n",
       "      <td>7669.000000</td>\n",
       "      <td>0.000000</td>\n",
       "      <td>51.000000</td>\n",
       "      <td>1.000000</td>\n",
       "      <td>13.000000</td>\n",
       "      <td>43.000000</td>\n",
       "      <td>7.000000</td>\n",
       "      <td>2.000000</td>\n",
       "      <td>3.000000</td>\n",
       "      <td>12.000000</td>\n",
       "    </tr>\n",
       "    <tr>\n",
       "      <th>max</th>\n",
       "      <td>10300.000000</td>\n",
       "      <td>3.000000</td>\n",
       "      <td>73.000000</td>\n",
       "      <td>5.000000</td>\n",
       "      <td>19.000000</td>\n",
       "      <td>105.000000</td>\n",
       "      <td>25.000000</td>\n",
       "      <td>5.000000</td>\n",
       "      <td>12.000000</td>\n",
       "      <td>26.000000</td>\n",
       "    </tr>\n",
       "  </tbody>\n",
       "</table>\n",
       "</div>"
      ],
      "text/plain": [
       "              INDEX     KIDSDRIV          AGE     HOMEKIDS          YOJ  \\\n",
       "count   2141.000000  2141.000000  2140.000000  2141.000000  2047.000000   \n",
       "mean    5150.098552     0.162541    45.016822     0.717422    10.379091   \n",
       "std     2956.329272     0.486949     8.525006     1.116579     4.170008   \n",
       "min        3.000000     0.000000    17.000000     0.000000     0.000000   \n",
       "25%     2632.000000     0.000000    39.000000     0.000000     9.000000   \n",
       "50%     5224.000000     0.000000    45.000000     0.000000    11.000000   \n",
       "75%     7669.000000     0.000000    51.000000     1.000000    13.000000   \n",
       "max    10300.000000     3.000000    73.000000     5.000000    19.000000   \n",
       "\n",
       "          TRAVTIME          TIF     CLM_FREQ      MVR_PTS      CAR_AGE  \n",
       "count  2141.000000  2141.000000  2141.000000  2141.000000  2012.000000  \n",
       "mean     33.152265     5.244745     0.808968     1.765997     8.183400  \n",
       "std      15.722393     3.971026     1.137481     2.203413     5.766263  \n",
       "min       5.000000     1.000000     0.000000     0.000000     0.000000  \n",
       "25%      22.000000     1.000000     0.000000     0.000000     1.000000  \n",
       "50%      33.000000     4.000000     0.000000     1.000000     8.000000  \n",
       "75%      43.000000     7.000000     2.000000     3.000000    12.000000  \n",
       "max     105.000000    25.000000     5.000000    12.000000    26.000000  "
      ]
     },
     "execution_count": 157,
     "metadata": {},
     "output_type": "execute_result"
    }
   ],
   "source": [
    "df_test.describe()"
   ]
  },
  {
   "cell_type": "markdown",
   "metadata": {},
   "source": [
    "#### We notice that the numerical variables in the training and test sets have a similar distribution, which is reassuring"
   ]
  },
  {
   "cell_type": "markdown",
   "metadata": {},
   "source": [
    "#### As you can imagine, the \"Index\" variable is irrelevant and we can remove it"
   ]
  },
  {
   "cell_type": "code",
   "execution_count": 158,
   "metadata": {},
   "outputs": [],
   "source": [
    "df_train.drop(columns='INDEX',inplace=True)"
   ]
  },
  {
   "cell_type": "markdown",
   "metadata": {},
   "source": [
    "#### We have to turn the amount variables (dollars) into numbers : let's write a small function for this extraction"
   ]
  },
  {
   "cell_type": "code",
   "execution_count": 159,
   "metadata": {},
   "outputs": [
    {
     "data": {
      "text/plain": [
       "'$67,349 '"
      ]
     },
     "execution_count": 159,
     "metadata": {},
     "output_type": "execute_result"
    }
   ],
   "source": [
    "df_train['INCOME'].values[0] # The format of an amount"
   ]
  },
  {
   "cell_type": "code",
   "execution_count": 160,
   "metadata": {},
   "outputs": [],
   "source": [
    "import re\n",
    "def income_process(income):\n",
    "    string = str(income)\n",
    "    string = string[1:-1]\n",
    "    numbers = string.replace(\",\",\"\")\n",
    "    return(numbers)"
   ]
  },
  {
   "cell_type": "code",
   "execution_count": 161,
   "metadata": {},
   "outputs": [
    {
     "data": {
      "text/plain": [
       "'67349'"
      ]
     },
     "execution_count": 161,
     "metadata": {},
     "output_type": "execute_result"
    }
   ],
   "source": [
    "income_process('$67,349 ')"
   ]
  },
  {
   "cell_type": "markdown",
   "metadata": {},
   "source": [
    "#### Now we can apply our function to all the columns concerned"
   ]
  },
  {
   "cell_type": "code",
   "execution_count": 162,
   "metadata": {},
   "outputs": [],
   "source": [
    "df_train['INCOME'] = df_train['INCOME'].apply(income_process)\n",
    "df_train[\"INCOME\"] = pd.to_numeric(df_train[\"INCOME\"],errors='coerce')"
   ]
  },
  {
   "cell_type": "code",
   "execution_count": 163,
   "metadata": {},
   "outputs": [],
   "source": [
    "df_train['HOME_VAL'] = df_train['HOME_VAL'].apply(income_process)\n",
    "df_train['HOME_VAL'] = pd.to_numeric(df_train['HOME_VAL'],errors='coerce')"
   ]
  },
  {
   "cell_type": "code",
   "execution_count": 164,
   "metadata": {},
   "outputs": [],
   "source": [
    "df_train['OLDCLAIM'] = df_train['OLDCLAIM'].apply(income_process)\n",
    "df_train['OLDCLAIM'] = pd.to_numeric(df_train['OLDCLAIM'],errors='coerce')"
   ]
  },
  {
   "cell_type": "code",
   "execution_count": 165,
   "metadata": {},
   "outputs": [],
   "source": [
    "df_train['BLUEBOOK'] = df_train['BLUEBOOK'].apply(income_process)\n",
    "df_train['BLUEBOOK'] = pd.to_numeric(df_train['BLUEBOOK'],errors='coerce')"
   ]
  },
  {
   "cell_type": "markdown",
   "metadata": {},
   "source": [
    "#### Let's plot histograms for all the numerical data : the variables that come closest to a normal distribution are Age and YOJ"
   ]
  },
  {
   "cell_type": "code",
   "execution_count": 166,
   "metadata": {},
   "outputs": [
    {
     "data": {
      "text/plain": [
       "array([[<AxesSubplot:title={'center':'TARGET_FLAG'}>,\n",
       "        <AxesSubplot:title={'center':'TARGET_AMT'}>,\n",
       "        <AxesSubplot:title={'center':'KIDSDRIV'}>,\n",
       "        <AxesSubplot:title={'center':'AGE'}>],\n",
       "       [<AxesSubplot:title={'center':'HOMEKIDS'}>,\n",
       "        <AxesSubplot:title={'center':'YOJ'}>,\n",
       "        <AxesSubplot:title={'center':'INCOME'}>,\n",
       "        <AxesSubplot:title={'center':'HOME_VAL'}>],\n",
       "       [<AxesSubplot:title={'center':'TRAVTIME'}>,\n",
       "        <AxesSubplot:title={'center':'BLUEBOOK'}>,\n",
       "        <AxesSubplot:title={'center':'TIF'}>,\n",
       "        <AxesSubplot:title={'center':'OLDCLAIM'}>],\n",
       "       [<AxesSubplot:title={'center':'CLM_FREQ'}>,\n",
       "        <AxesSubplot:title={'center':'MVR_PTS'}>,\n",
       "        <AxesSubplot:title={'center':'CAR_AGE'}>, <AxesSubplot:>]],\n",
       "      dtype=object)"
      ]
     },
     "execution_count": 166,
     "metadata": {},
     "output_type": "execute_result"
    },
    {
     "data": {
      "image/png": "[encoded data removed]",
      "text/plain": [
       "<Figure size 1368x720 with 16 Axes>"
      ]
     },
     "metadata": {
      "needs_background": "light"
     },
     "output_type": "display_data"
    }
   ],
   "source": [
    "df_train.hist(figsize=(19,10),bins=10)"
   ]
  },
  {
   "cell_type": "code",
   "execution_count": 167,
   "metadata": {},
   "outputs": [
    {
     "data": {
      "text/html": [
       "<div>\n",
       "<style scoped>\n",
       "    .dataframe tbody tr th:only-of-type {\n",
       "        vertical-align: middle;\n",
       "    }\n",
       "\n",
       "    .dataframe tbody tr th {\n",
       "        vertical-align: top;\n",
       "    }\n",
       "\n",
       "    .dataframe thead th {\n",
       "        text-align: right;\n",
       "    }\n",
       "</style>\n",
       "<table border=\"1\" class=\"dataframe\">\n",
       "  <thead>\n",
       "    <tr style=\"text-align: right;\">\n",
       "      <th></th>\n",
       "      <th>TARGET_FLAG</th>\n",
       "      <th>TARGET_AMT</th>\n",
       "      <th>KIDSDRIV</th>\n",
       "      <th>AGE</th>\n",
       "      <th>HOMEKIDS</th>\n",
       "      <th>YOJ</th>\n",
       "      <th>INCOME</th>\n",
       "      <th>HOME_VAL</th>\n",
       "      <th>TRAVTIME</th>\n",
       "      <th>BLUEBOOK</th>\n",
       "      <th>TIF</th>\n",
       "      <th>OLDCLAIM</th>\n",
       "      <th>CLM_FREQ</th>\n",
       "      <th>MVR_PTS</th>\n",
       "      <th>CAR_AGE</th>\n",
       "    </tr>\n",
       "  </thead>\n",
       "  <tbody>\n",
       "    <tr>\n",
       "      <th>count</th>\n",
       "      <td>8161.000000</td>\n",
       "      <td>8161.000000</td>\n",
       "      <td>8161.000000</td>\n",
       "      <td>8155.000000</td>\n",
       "      <td>8161.000000</td>\n",
       "      <td>7707.000000</td>\n",
       "      <td>7716.000000</td>\n",
       "      <td>7697.000000</td>\n",
       "      <td>8161.000000</td>\n",
       "      <td>8161.000000</td>\n",
       "      <td>8161.000000</td>\n",
       "      <td>8161.000000</td>\n",
       "      <td>8161.000000</td>\n",
       "      <td>8161.000000</td>\n",
       "      <td>7651.000000</td>\n",
       "    </tr>\n",
       "    <tr>\n",
       "      <th>mean</th>\n",
       "      <td>0.263816</td>\n",
       "      <td>1504.324648</td>\n",
       "      <td>0.171057</td>\n",
       "      <td>44.790313</td>\n",
       "      <td>0.721235</td>\n",
       "      <td>10.499286</td>\n",
       "      <td>61898.094609</td>\n",
       "      <td>154867.289723</td>\n",
       "      <td>33.485725</td>\n",
       "      <td>15709.899522</td>\n",
       "      <td>5.351305</td>\n",
       "      <td>4037.076216</td>\n",
       "      <td>0.798554</td>\n",
       "      <td>1.695503</td>\n",
       "      <td>8.328323</td>\n",
       "    </tr>\n",
       "    <tr>\n",
       "      <th>std</th>\n",
       "      <td>0.440728</td>\n",
       "      <td>4704.026930</td>\n",
       "      <td>0.511534</td>\n",
       "      <td>8.627589</td>\n",
       "      <td>1.116323</td>\n",
       "      <td>4.092474</td>\n",
       "      <td>47572.682808</td>\n",
       "      <td>129123.774574</td>\n",
       "      <td>15.908333</td>\n",
       "      <td>8419.734075</td>\n",
       "      <td>4.146635</td>\n",
       "      <td>8777.139104</td>\n",
       "      <td>1.158453</td>\n",
       "      <td>2.147112</td>\n",
       "      <td>5.700742</td>\n",
       "    </tr>\n",
       "    <tr>\n",
       "      <th>min</th>\n",
       "      <td>0.000000</td>\n",
       "      <td>0.000000</td>\n",
       "      <td>0.000000</td>\n",
       "      <td>16.000000</td>\n",
       "      <td>0.000000</td>\n",
       "      <td>0.000000</td>\n",
       "      <td>0.000000</td>\n",
       "      <td>0.000000</td>\n",
       "      <td>5.000000</td>\n",
       "      <td>1500.000000</td>\n",
       "      <td>1.000000</td>\n",
       "      <td>0.000000</td>\n",
       "      <td>0.000000</td>\n",
       "      <td>0.000000</td>\n",
       "      <td>-3.000000</td>\n",
       "    </tr>\n",
       "    <tr>\n",
       "      <th>25%</th>\n",
       "      <td>0.000000</td>\n",
       "      <td>0.000000</td>\n",
       "      <td>0.000000</td>\n",
       "      <td>39.000000</td>\n",
       "      <td>0.000000</td>\n",
       "      <td>9.000000</td>\n",
       "      <td>28097.000000</td>\n",
       "      <td>0.000000</td>\n",
       "      <td>22.000000</td>\n",
       "      <td>9280.000000</td>\n",
       "      <td>1.000000</td>\n",
       "      <td>0.000000</td>\n",
       "      <td>0.000000</td>\n",
       "      <td>0.000000</td>\n",
       "      <td>1.000000</td>\n",
       "    </tr>\n",
       "    <tr>\n",
       "      <th>50%</th>\n",
       "      <td>0.000000</td>\n",
       "      <td>0.000000</td>\n",
       "      <td>0.000000</td>\n",
       "      <td>45.000000</td>\n",
       "      <td>0.000000</td>\n",
       "      <td>11.000000</td>\n",
       "      <td>54028.000000</td>\n",
       "      <td>161160.000000</td>\n",
       "      <td>33.000000</td>\n",
       "      <td>14440.000000</td>\n",
       "      <td>4.000000</td>\n",
       "      <td>0.000000</td>\n",
       "      <td>0.000000</td>\n",
       "      <td>1.000000</td>\n",
       "      <td>8.000000</td>\n",
       "    </tr>\n",
       "    <tr>\n",
       "      <th>75%</th>\n",
       "      <td>1.000000</td>\n",
       "      <td>1036.000000</td>\n",
       "      <td>0.000000</td>\n",
       "      <td>51.000000</td>\n",
       "      <td>1.000000</td>\n",
       "      <td>13.000000</td>\n",
       "      <td>85986.000000</td>\n",
       "      <td>238724.000000</td>\n",
       "      <td>44.000000</td>\n",
       "      <td>20850.000000</td>\n",
       "      <td>7.000000</td>\n",
       "      <td>4636.000000</td>\n",
       "      <td>2.000000</td>\n",
       "      <td>3.000000</td>\n",
       "      <td>12.000000</td>\n",
       "    </tr>\n",
       "    <tr>\n",
       "      <th>max</th>\n",
       "      <td>1.000000</td>\n",
       "      <td>107586.136200</td>\n",
       "      <td>4.000000</td>\n",
       "      <td>81.000000</td>\n",
       "      <td>5.000000</td>\n",
       "      <td>23.000000</td>\n",
       "      <td>367030.000000</td>\n",
       "      <td>885282.000000</td>\n",
       "      <td>142.000000</td>\n",
       "      <td>69740.000000</td>\n",
       "      <td>25.000000</td>\n",
       "      <td>57037.000000</td>\n",
       "      <td>5.000000</td>\n",
       "      <td>13.000000</td>\n",
       "      <td>28.000000</td>\n",
       "    </tr>\n",
       "  </tbody>\n",
       "</table>\n",
       "</div>"
      ],
      "text/plain": [
       "       TARGET_FLAG     TARGET_AMT     KIDSDRIV          AGE     HOMEKIDS  \\\n",
       "count  8161.000000    8161.000000  8161.000000  8155.000000  8161.000000   \n",
       "mean      0.263816    1504.324648     0.171057    44.790313     0.721235   \n",
       "std       0.440728    4704.026930     0.511534     8.627589     1.116323   \n",
       "min       0.000000       0.000000     0.000000    16.000000     0.000000   \n",
       "25%       0.000000       0.000000     0.000000    39.000000     0.000000   \n",
       "50%       0.000000       0.000000     0.000000    45.000000     0.000000   \n",
       "75%       1.000000    1036.000000     0.000000    51.000000     1.000000   \n",
       "max       1.000000  107586.136200     4.000000    81.000000     5.000000   \n",
       "\n",
       "               YOJ         INCOME       HOME_VAL     TRAVTIME      BLUEBOOK  \\\n",
       "count  7707.000000    7716.000000    7697.000000  8161.000000   8161.000000   \n",
       "mean     10.499286   61898.094609  154867.289723    33.485725  15709.899522   \n",
       "std       4.092474   47572.682808  129123.774574    15.908333   8419.734075   \n",
       "min       0.000000       0.000000       0.000000     5.000000   1500.000000   \n",
       "25%       9.000000   28097.000000       0.000000    22.000000   9280.000000   \n",
       "50%      11.000000   54028.000000  161160.000000    33.000000  14440.000000   \n",
       "75%      13.000000   85986.000000  238724.000000    44.000000  20850.000000   \n",
       "max      23.000000  367030.000000  885282.000000   142.000000  69740.000000   \n",
       "\n",
       "               TIF      OLDCLAIM     CLM_FREQ      MVR_PTS      CAR_AGE  \n",
       "count  8161.000000   8161.000000  8161.000000  8161.000000  7651.000000  \n",
       "mean      5.351305   4037.076216     0.798554     1.695503     8.328323  \n",
       "std       4.146635   8777.139104     1.158453     2.147112     5.700742  \n",
       "min       1.000000      0.000000     0.000000     0.000000    -3.000000  \n",
       "25%       1.000000      0.000000     0.000000     0.000000     1.000000  \n",
       "50%       4.000000      0.000000     0.000000     1.000000     8.000000  \n",
       "75%       7.000000   4636.000000     2.000000     3.000000    12.000000  \n",
       "max      25.000000  57037.000000     5.000000    13.000000    28.000000  "
      ]
     },
     "execution_count": 167,
     "metadata": {},
     "output_type": "execute_result"
    }
   ],
   "source": [
    "df_train.describe()"
   ]
  },
  {
   "cell_type": "markdown",
   "metadata": {},
   "source": [
    "#### Only binary/categorical variables remain :"
   ]
  },
  {
   "cell_type": "code",
   "execution_count": 168,
   "metadata": {},
   "outputs": [
    {
     "data": {
      "text/plain": [
       "TARGET_FLAG      int64\n",
       "TARGET_AMT     float64\n",
       "KIDSDRIV         int64\n",
       "AGE            float64\n",
       "HOMEKIDS         int64\n",
       "YOJ            float64\n",
       "INCOME         float64\n",
       "PARENT1         object\n",
       "HOME_VAL       float64\n",
       "MSTATUS         object\n",
       "SEX             object\n",
       "EDUCATION       object\n",
       "JOB             object\n",
       "TRAVTIME         int64\n",
       "CAR_USE         object\n",
       "BLUEBOOK         int64\n",
       "TIF              int64\n",
       "CAR_TYPE        object\n",
       "RED_CAR         object\n",
       "OLDCLAIM         int64\n",
       "CLM_FREQ         int64\n",
       "REVOKED         object\n",
       "MVR_PTS          int64\n",
       "CAR_AGE        float64\n",
       "URBANICITY      object\n",
       "dtype: object"
      ]
     },
     "execution_count": 168,
     "metadata": {},
     "output_type": "execute_result"
    }
   ],
   "source": [
    "df_train.dtypes"
   ]
  },
  {
   "cell_type": "code",
   "execution_count": 169,
   "metadata": {},
   "outputs": [],
   "source": [
    "from sklearn.preprocessing import StandardScaler\n",
    "\n",
    "# sc = StandardScaler()\n",
    "\n",
    "# get numeric data\n",
    "# num_d = df_train.select_dtypes(exclude=['object'])\n",
    "\n",
    "# update the cols with their normalized values\n",
    "# df_train[num_d.columns] = sc.fit_transform(num_d)"
   ]
  },
  {
   "cell_type": "markdown",
   "metadata": {},
   "source": [
    "## <font color='grey'> Data exploration"
   ]
  },
  {
   "cell_type": "markdown",
   "metadata": {},
   "source": [
    "### NaN values proportion for each column (in descending order) : "
   ]
  },
  {
   "cell_type": "code",
   "execution_count": 170,
   "metadata": {},
   "outputs": [
    {
     "data": {
      "image/png": "[encoded data removed]",
      "text/plain": [
       "<Figure size 432x288 with 1 Axes>"
      ]
     },
     "metadata": {
      "needs_background": "light"
     },
     "output_type": "display_data"
    }
   ],
   "source": [
    "plot = df_train.isnull().mean().sort_values(ascending=False)\n",
    "f, ax = plt.subplots()\n",
    "\n",
    "for i,item in enumerate(zip(plot.keys(),plot.values)):\n",
    "    if (item[1] > 0):\n",
    "        ax.bar(item[0], item[1], label = item[0])\n",
    "\n",
    "ax.set_xticklabels([]) \n",
    "ax.set_xticks([]) \n",
    "plt.ylim(0,0.1)\n",
    "plt.ylabel('Percentage')\n",
    "plt.xlabel('Columns')\n",
    "plt.legend()\n",
    "plt.show()"
   ]
  },
  {
   "cell_type": "markdown",
   "metadata": {},
   "source": [
    "### Patterns in data completion ?"
   ]
  },
  {
   "cell_type": "code",
   "execution_count": 171,
   "metadata": {},
   "outputs": [
    {
     "data": {
      "text/plain": [
       "<AxesSubplot:>"
      ]
     },
     "execution_count": 171,
     "metadata": {},
     "output_type": "execute_result"
    },
    {
     "data": {
      "image/png": "[encoded data removed]",
      "text/plain": [
       "<Figure size 1800x720 with 2 Axes>"
      ]
     },
     "metadata": {
      "needs_background": "light"
     },
     "output_type": "display_data"
    }
   ],
   "source": [
    "import missingno as msno\n",
    "msno.matrix(df_train)"
   ]
  },
  {
   "cell_type": "markdown",
   "metadata": {},
   "source": [
    "#### Correlation heatmap to see if there is any correlation between missing values in different columns"
   ]
  },
  {
   "cell_type": "code",
   "execution_count": 172,
   "metadata": {},
   "outputs": [
    {
     "data": {
      "text/plain": [
       "<AxesSubplot:>"
      ]
     },
     "execution_count": 172,
     "metadata": {},
     "output_type": "execute_result"
    },
    {
     "data": {
      "image/png": "[encoded data removed]",
      "text/plain": [
       "<Figure size 1440x864 with 2 Axes>"
      ]
     },
     "metadata": {
      "needs_background": "light"
     },
     "output_type": "display_data"
    }
   ],
   "source": [
    "msno.heatmap(df_train)"
   ]
  },
  {
   "cell_type": "markdown",
   "metadata": {},
   "source": [
    "#### We can confirm that the NaN values are uncorrelated. Let's see if the data should be cleaned before imputing missing values and processing binary/categorical columns"
   ]
  },
  {
   "cell_type": "code",
   "execution_count": 173,
   "metadata": {},
   "outputs": [
    {
     "data": {
      "text/plain": [
       "z_High School    2330\n",
       "Bachelors        2242\n",
       "Masters          1658\n",
       "<High School     1203\n",
       "PhD               728\n",
       "Name: EDUCATION, dtype: int64"
      ]
     },
     "execution_count": 173,
     "metadata": {},
     "output_type": "execute_result"
    }
   ],
   "source": [
    "df_train['EDUCATION'].value_counts()"
   ]
  },
  {
   "cell_type": "code",
   "execution_count": 174,
   "metadata": {},
   "outputs": [
    {
     "data": {
      "text/plain": [
       "z_F    4375\n",
       "M      3786\n",
       "Name: SEX, dtype: int64"
      ]
     },
     "execution_count": 174,
     "metadata": {},
     "output_type": "execute_result"
    }
   ],
   "source": [
    "df_train['SEX'].value_counts()"
   ]
  },
  {
   "cell_type": "markdown",
   "metadata": {},
   "source": [
    "#### I'm guessing that the z_ at the beginning is a typo, looking at the columns \"Sex\" and \"Education\", and thus we can assume that < High School means an academic level below high school"
   ]
  },
  {
   "cell_type": "markdown",
   "metadata": {},
   "source": [
    "#### Let's display the values that are taken by each variable and their counts :"
   ]
  },
  {
   "cell_type": "code",
   "execution_count": 175,
   "metadata": {},
   "outputs": [
    {
     "name": "stdout",
     "output_type": "stream",
     "text": [
      "No     7084\n",
      "Yes    1077\n",
      "Name: PARENT1, dtype: int64\n",
      "Yes     4894\n",
      "z_No    3267\n",
      "Name: MSTATUS, dtype: int64\n",
      "z_F    4375\n",
      "M      3786\n",
      "Name: SEX, dtype: int64\n",
      "z_High School    2330\n",
      "Bachelors        2242\n",
      "Masters          1658\n",
      "<High School     1203\n",
      "PhD               728\n",
      "Name: EDUCATION, dtype: int64\n",
      "z_Blue Collar    1825\n",
      "Clerical         1271\n",
      "Professional     1117\n",
      "Manager           988\n",
      "Lawyer            835\n",
      "Student           712\n",
      "Home Maker        641\n",
      "Doctor            246\n",
      "Name: JOB, dtype: int64\n",
      "Private       5132\n",
      "Commercial    3029\n",
      "Name: CAR_USE, dtype: int64\n",
      "z_SUV          2294\n",
      "Minivan        2145\n",
      "Pickup         1389\n",
      "Sports Car      907\n",
      "Van             750\n",
      "Panel Truck     676\n",
      "Name: CAR_TYPE, dtype: int64\n",
      "no     5783\n",
      "yes    2378\n",
      "Name: RED_CAR, dtype: int64\n",
      "No     7161\n",
      "Yes    1000\n",
      "Name: REVOKED, dtype: int64\n",
      "Highly Urban/ Urban      6492\n",
      "z_Highly Rural/ Rural    1669\n",
      "Name: URBANICITY, dtype: int64\n"
     ]
    }
   ],
   "source": [
    "for y in df_train.columns:\n",
    "    if(df_train[y].dtype == object):\n",
    "          print(df_train[y].value_counts())"
   ]
  },
  {
   "cell_type": "markdown",
   "metadata": {},
   "source": [
    "#### Among the columns with missing values, only Job is categorical"
   ]
  },
  {
   "cell_type": "code",
   "execution_count": 176,
   "metadata": {},
   "outputs": [
    {
     "name": "stdout",
     "output_type": "stream",
     "text": [
      "<class 'pandas.core.frame.DataFrame'>\n",
      "RangeIndex: 8161 entries, 0 to 8160\n",
      "Data columns (total 25 columns):\n",
      " #   Column       Non-Null Count  Dtype  \n",
      "---  ------       --------------  -----  \n",
      " 0   TARGET_FLAG  8161 non-null   int64  \n",
      " 1   TARGET_AMT   8161 non-null   float64\n",
      " 2   KIDSDRIV     8161 non-null   int64  \n",
      " 3   AGE          8155 non-null   float64\n",
      " 4   HOMEKIDS     8161 non-null   int64  \n",
      " 5   YOJ          7707 non-null   float64\n",
      " 6   INCOME       7716 non-null   float64\n",
      " 7   PARENT1      8161 non-null   object \n",
      " 8   HOME_VAL     7697 non-null   float64\n",
      " 9   MSTATUS      8161 non-null   object \n",
      " 10  SEX          8161 non-null   object \n",
      " 11  EDUCATION    8161 non-null   object \n",
      " 12  JOB          7635 non-null   object \n",
      " 13  TRAVTIME     8161 non-null   int64  \n",
      " 14  CAR_USE      8161 non-null   object \n",
      " 15  BLUEBOOK     8161 non-null   int64  \n",
      " 16  TIF          8161 non-null   int64  \n",
      " 17  CAR_TYPE     8161 non-null   object \n",
      " 18  RED_CAR      8161 non-null   object \n",
      " 19  OLDCLAIM     8161 non-null   int64  \n",
      " 20  CLM_FREQ     8161 non-null   int64  \n",
      " 21  REVOKED      8161 non-null   object \n",
      " 22  MVR_PTS      8161 non-null   int64  \n",
      " 23  CAR_AGE      7651 non-null   float64\n",
      " 24  URBANICITY   8161 non-null   object \n",
      "dtypes: float64(6), int64(9), object(10)\n",
      "memory usage: 1.6+ MB\n"
     ]
    }
   ],
   "source": [
    "df_train.info()"
   ]
  },
  {
   "cell_type": "code",
   "execution_count": 177,
   "metadata": {},
   "outputs": [],
   "source": [
    "#df_train[df_train['JOB'].isnull()] = 'NaN'"
   ]
  },
  {
   "cell_type": "code",
   "execution_count": 178,
   "metadata": {},
   "outputs": [
    {
     "data": {
      "text/plain": [
       "array(['Professional', 'z_Blue Collar', 'Clerical', 'z_Blue Collar',\n",
       "       'Doctor', 'z_Blue Collar', 'z_Blue Collar', 'z_Blue Collar',\n",
       "       'Clerical', 'Professional', 'Lawyer', 'Professional', 'Manager',\n",
       "       nan, 'Home Maker', 'Clerical', 'Lawyer', 'Lawyer', 'Clerical',\n",
       "       'z_Blue Collar', 'z_Blue Collar', 'Lawyer', 'z_Blue Collar',\n",
       "       'Home Maker', 'Professional', 'Clerical', 'Manager', 'Clerical',\n",
       "       'Home Maker', 'Clerical', 'Professional', nan, 'z_Blue Collar',\n",
       "       'Home Maker', 'Doctor', 'Clerical', nan, 'Doctor', 'Student',\n",
       "       'Student', 'Manager', 'Clerical', 'Clerical', 'Student', 'Student',\n",
       "       'Professional', 'Clerical', 'Clerical', 'Lawyer', 'z_Blue Collar'],\n",
       "      dtype=object)"
      ]
     },
     "execution_count": 178,
     "metadata": {},
     "output_type": "execute_result"
    }
   ],
   "source": [
    "df_train['JOB'].values[:50]"
   ]
  },
  {
   "cell_type": "markdown",
   "metadata": {},
   "source": [
    "#### We will map categorical columns with ordinal encoding because most of them have an inherent order (like the Education column)"
   ]
  },
  {
   "cell_type": "code",
   "execution_count": 179,
   "metadata": {},
   "outputs": [],
   "source": [
    "df_train['JOB'] = df_train['JOB'].map({'z_Blue Collar': 0, 'Home Maker': 1, 'Student': 2, 'Professional': 3, 'Manager' : 4, 'Clerical' : 5,  'Doctor': 6, 'Lawyer' : 7})\n",
    "df_train['JOB'] = pd.to_numeric(df_train['JOB'],errors='coerce')"
   ]
  },
  {
   "cell_type": "code",
   "execution_count": 180,
   "metadata": {},
   "outputs": [
    {
     "data": {
      "text/plain": [
       "0       3.0\n",
       "1       0.0\n",
       "2       5.0\n",
       "3       0.0\n",
       "4       6.0\n",
       "       ... \n",
       "8156    0.0\n",
       "8157    4.0\n",
       "8158    NaN\n",
       "8159    1.0\n",
       "8160    5.0\n",
       "Name: JOB, Length: 8161, dtype: float64"
      ]
     },
     "execution_count": 180,
     "metadata": {},
     "output_type": "execute_result"
    }
   ],
   "source": [
    "df_train['JOB']"
   ]
  },
  {
   "cell_type": "code",
   "execution_count": 181,
   "metadata": {},
   "outputs": [],
   "source": [
    "from sklearn.preprocessing import OrdinalEncoder\n",
    "\n",
    "#df_train.fillna(-1,inplace=True)\n",
    "\n",
    "enc = OrdinalEncoder(handle_unknown='use_encoded_value',\n",
    "                                 unknown_value=-1)\n",
    "df_train[['SEX', 'PARENT1', 'MSTATUS', 'CAR_USE', 'RED_CAR', 'REVOKED', 'URBANICITY',\n",
    "'EDUCATION', 'CAR_TYPE']] = enc.fit_transform(df_train[['SEX', 'PARENT1', 'MSTATUS', 'CAR_USE', 'RED_CAR', 'REVOKED', 'URBANICITY', 'EDUCATION', 'CAR_TYPE']])"
   ]
  },
  {
   "cell_type": "code",
   "execution_count": 182,
   "metadata": {},
   "outputs": [
    {
     "data": {
      "text/html": [
       "<div>\n",
       "<style scoped>\n",
       "    .dataframe tbody tr th:only-of-type {\n",
       "        vertical-align: middle;\n",
       "    }\n",
       "\n",
       "    .dataframe tbody tr th {\n",
       "        vertical-align: top;\n",
       "    }\n",
       "\n",
       "    .dataframe thead th {\n",
       "        text-align: right;\n",
       "    }\n",
       "</style>\n",
       "<table border=\"1\" class=\"dataframe\">\n",
       "  <thead>\n",
       "    <tr style=\"text-align: right;\">\n",
       "      <th></th>\n",
       "      <th>TARGET_FLAG</th>\n",
       "      <th>TARGET_AMT</th>\n",
       "      <th>KIDSDRIV</th>\n",
       "      <th>AGE</th>\n",
       "      <th>HOMEKIDS</th>\n",
       "      <th>YOJ</th>\n",
       "      <th>INCOME</th>\n",
       "      <th>PARENT1</th>\n",
       "      <th>HOME_VAL</th>\n",
       "      <th>MSTATUS</th>\n",
       "      <th>SEX</th>\n",
       "      <th>EDUCATION</th>\n",
       "      <th>JOB</th>\n",
       "      <th>TRAVTIME</th>\n",
       "      <th>CAR_USE</th>\n",
       "      <th>BLUEBOOK</th>\n",
       "      <th>TIF</th>\n",
       "      <th>CAR_TYPE</th>\n",
       "      <th>RED_CAR</th>\n",
       "      <th>OLDCLAIM</th>\n",
       "      <th>CLM_FREQ</th>\n",
       "      <th>REVOKED</th>\n",
       "      <th>MVR_PTS</th>\n",
       "      <th>CAR_AGE</th>\n",
       "      <th>URBANICITY</th>\n",
       "    </tr>\n",
       "  </thead>\n",
       "  <tbody>\n",
       "    <tr>\n",
       "      <th>0</th>\n",
       "      <td>0</td>\n",
       "      <td>0.0</td>\n",
       "      <td>0</td>\n",
       "      <td>60.0</td>\n",
       "      <td>0</td>\n",
       "      <td>11.0</td>\n",
       "      <td>67349.0</td>\n",
       "      <td>0.0</td>\n",
       "      <td>0.0</td>\n",
       "      <td>1.0</td>\n",
       "      <td>0.0</td>\n",
       "      <td>3.0</td>\n",
       "      <td>3.0</td>\n",
       "      <td>14</td>\n",
       "      <td>1.0</td>\n",
       "      <td>14230</td>\n",
       "      <td>11</td>\n",
       "      <td>0.0</td>\n",
       "      <td>1.0</td>\n",
       "      <td>4461</td>\n",
       "      <td>2</td>\n",
       "      <td>0.0</td>\n",
       "      <td>3</td>\n",
       "      <td>18.0</td>\n",
       "      <td>0.0</td>\n",
       "    </tr>\n",
       "    <tr>\n",
       "      <th>1</th>\n",
       "      <td>0</td>\n",
       "      <td>0.0</td>\n",
       "      <td>0</td>\n",
       "      <td>43.0</td>\n",
       "      <td>0</td>\n",
       "      <td>11.0</td>\n",
       "      <td>91449.0</td>\n",
       "      <td>0.0</td>\n",
       "      <td>257252.0</td>\n",
       "      <td>1.0</td>\n",
       "      <td>0.0</td>\n",
       "      <td>4.0</td>\n",
       "      <td>0.0</td>\n",
       "      <td>22</td>\n",
       "      <td>0.0</td>\n",
       "      <td>14940</td>\n",
       "      <td>1</td>\n",
       "      <td>0.0</td>\n",
       "      <td>1.0</td>\n",
       "      <td>0</td>\n",
       "      <td>0</td>\n",
       "      <td>0.0</td>\n",
       "      <td>0</td>\n",
       "      <td>1.0</td>\n",
       "      <td>0.0</td>\n",
       "    </tr>\n",
       "    <tr>\n",
       "      <th>2</th>\n",
       "      <td>0</td>\n",
       "      <td>0.0</td>\n",
       "      <td>0</td>\n",
       "      <td>35.0</td>\n",
       "      <td>1</td>\n",
       "      <td>10.0</td>\n",
       "      <td>16039.0</td>\n",
       "      <td>0.0</td>\n",
       "      <td>124191.0</td>\n",
       "      <td>0.0</td>\n",
       "      <td>1.0</td>\n",
       "      <td>4.0</td>\n",
       "      <td>5.0</td>\n",
       "      <td>5</td>\n",
       "      <td>1.0</td>\n",
       "      <td>4010</td>\n",
       "      <td>4</td>\n",
       "      <td>5.0</td>\n",
       "      <td>0.0</td>\n",
       "      <td>38690</td>\n",
       "      <td>2</td>\n",
       "      <td>0.0</td>\n",
       "      <td>3</td>\n",
       "      <td>10.0</td>\n",
       "      <td>0.0</td>\n",
       "    </tr>\n",
       "    <tr>\n",
       "      <th>3</th>\n",
       "      <td>0</td>\n",
       "      <td>0.0</td>\n",
       "      <td>0</td>\n",
       "      <td>51.0</td>\n",
       "      <td>0</td>\n",
       "      <td>14.0</td>\n",
       "      <td>NaN</td>\n",
       "      <td>0.0</td>\n",
       "      <td>306251.0</td>\n",
       "      <td>0.0</td>\n",
       "      <td>0.0</td>\n",
       "      <td>0.0</td>\n",
       "      <td>0.0</td>\n",
       "      <td>32</td>\n",
       "      <td>1.0</td>\n",
       "      <td>15440</td>\n",
       "      <td>7</td>\n",
       "      <td>0.0</td>\n",
       "      <td>1.0</td>\n",
       "      <td>0</td>\n",
       "      <td>0</td>\n",
       "      <td>0.0</td>\n",
       "      <td>0</td>\n",
       "      <td>6.0</td>\n",
       "      <td>0.0</td>\n",
       "    </tr>\n",
       "    <tr>\n",
       "      <th>4</th>\n",
       "      <td>0</td>\n",
       "      <td>0.0</td>\n",
       "      <td>0</td>\n",
       "      <td>50.0</td>\n",
       "      <td>0</td>\n",
       "      <td>NaN</td>\n",
       "      <td>114986.0</td>\n",
       "      <td>0.0</td>\n",
       "      <td>243925.0</td>\n",
       "      <td>0.0</td>\n",
       "      <td>1.0</td>\n",
       "      <td>3.0</td>\n",
       "      <td>6.0</td>\n",
       "      <td>36</td>\n",
       "      <td>1.0</td>\n",
       "      <td>18000</td>\n",
       "      <td>1</td>\n",
       "      <td>5.0</td>\n",
       "      <td>0.0</td>\n",
       "      <td>19217</td>\n",
       "      <td>2</td>\n",
       "      <td>1.0</td>\n",
       "      <td>3</td>\n",
       "      <td>17.0</td>\n",
       "      <td>0.0</td>\n",
       "    </tr>\n",
       "  </tbody>\n",
       "</table>\n",
       "</div>"
      ],
      "text/plain": [
       "   TARGET_FLAG  TARGET_AMT  KIDSDRIV   AGE  HOMEKIDS   YOJ    INCOME  PARENT1  \\\n",
       "0            0         0.0         0  60.0         0  11.0   67349.0      0.0   \n",
       "1            0         0.0         0  43.0         0  11.0   91449.0      0.0   \n",
       "2            0         0.0         0  35.0         1  10.0   16039.0      0.0   \n",
       "3            0         0.0         0  51.0         0  14.0       NaN      0.0   \n",
       "4            0         0.0         0  50.0         0   NaN  114986.0      0.0   \n",
       "\n",
       "   HOME_VAL  MSTATUS  SEX  EDUCATION  JOB  TRAVTIME  CAR_USE  BLUEBOOK  TIF  \\\n",
       "0       0.0      1.0  0.0        3.0  3.0        14      1.0     14230   11   \n",
       "1  257252.0      1.0  0.0        4.0  0.0        22      0.0     14940    1   \n",
       "2  124191.0      0.0  1.0        4.0  5.0         5      1.0      4010    4   \n",
       "3  306251.0      0.0  0.0        0.0  0.0        32      1.0     15440    7   \n",
       "4  243925.0      0.0  1.0        3.0  6.0        36      1.0     18000    1   \n",
       "\n",
       "   CAR_TYPE  RED_CAR  OLDCLAIM  CLM_FREQ  REVOKED  MVR_PTS  CAR_AGE  \\\n",
       "0       0.0      1.0      4461         2      0.0        3     18.0   \n",
       "1       0.0      1.0         0         0      0.0        0      1.0   \n",
       "2       5.0      0.0     38690         2      0.0        3     10.0   \n",
       "3       0.0      1.0         0         0      0.0        0      6.0   \n",
       "4       5.0      0.0     19217         2      1.0        3     17.0   \n",
       "\n",
       "   URBANICITY  \n",
       "0         0.0  \n",
       "1         0.0  \n",
       "2         0.0  \n",
       "3         0.0  \n",
       "4         0.0  "
      ]
     },
     "execution_count": 182,
     "metadata": {},
     "output_type": "execute_result"
    }
   ],
   "source": [
    "df_train.head()"
   ]
  },
  {
   "cell_type": "markdown",
   "metadata": {},
   "source": [
    "#### Finally, to impute missing values, we will use an experimental tool : Iterative Imputer, a multivariate imputer that estimates each feature from all the others (the default estimator is the Bayesian Ridge Regressor) by modeling each feature with missing values as a function of other features in a round-robin fashion."
   ]
  },
  {
   "cell_type": "code",
   "execution_count": 183,
   "metadata": {},
   "outputs": [],
   "source": [
    "from sklearn.preprocessing import FunctionTransformer\n",
    "from sklearn.pipeline import Pipeline\n",
    "\n",
    "from sklearn.experimental import enable_iterative_imputer\n",
    "\n",
    "from sklearn.impute import IterativeImputer\n",
    "\n",
    "imputer = Pipeline([(\"imputer\", IterativeImputer(random_state=0)),\n",
    "                    (\"pandarizer\",FunctionTransformer(lambda x: pd.DataFrame(x, columns = df_train.columns)))])\n",
    "\n",
    "df_train = imputer.fit_transform(df_train)"
   ]
  },
  {
   "cell_type": "code",
   "execution_count": 184,
   "metadata": {},
   "outputs": [
    {
     "name": "stdout",
     "output_type": "stream",
     "text": [
      "<class 'pandas.core.frame.DataFrame'>\n",
      "RangeIndex: 8161 entries, 0 to 8160\n",
      "Data columns (total 25 columns):\n",
      " #   Column       Non-Null Count  Dtype  \n",
      "---  ------       --------------  -----  \n",
      " 0   TARGET_FLAG  8161 non-null   float64\n",
      " 1   TARGET_AMT   8161 non-null   float64\n",
      " 2   KIDSDRIV     8161 non-null   float64\n",
      " 3   AGE          8161 non-null   float64\n",
      " 4   HOMEKIDS     8161 non-null   float64\n",
      " 5   YOJ          8161 non-null   float64\n",
      " 6   INCOME       8161 non-null   float64\n",
      " 7   PARENT1      8161 non-null   float64\n",
      " 8   HOME_VAL     8161 non-null   float64\n",
      " 9   MSTATUS      8161 non-null   float64\n",
      " 10  SEX          8161 non-null   float64\n",
      " 11  EDUCATION    8161 non-null   float64\n",
      " 12  JOB          8161 non-null   float64\n",
      " 13  TRAVTIME     8161 non-null   float64\n",
      " 14  CAR_USE      8161 non-null   float64\n",
      " 15  BLUEBOOK     8161 non-null   float64\n",
      " 16  TIF          8161 non-null   float64\n",
      " 17  CAR_TYPE     8161 non-null   float64\n",
      " 18  RED_CAR      8161 non-null   float64\n",
      " 19  OLDCLAIM     8161 non-null   float64\n",
      " 20  CLM_FREQ     8161 non-null   float64\n",
      " 21  REVOKED      8161 non-null   float64\n",
      " 22  MVR_PTS      8161 non-null   float64\n",
      " 23  CAR_AGE      8161 non-null   float64\n",
      " 24  URBANICITY   8161 non-null   float64\n",
      "dtypes: float64(25)\n",
      "memory usage: 1.6 MB\n"
     ]
    }
   ],
   "source": [
    "df_train.info()"
   ]
  },
  {
   "cell_type": "code",
   "execution_count": 185,
   "metadata": {},
   "outputs": [],
   "source": [
    "df_train = df_train.to_numpy(copy=True)"
   ]
  },
  {
   "cell_type": "code",
   "execution_count": 186,
   "metadata": {},
   "outputs": [],
   "source": [
    "X_train = df_train[:,2:]"
   ]
  },
  {
   "cell_type": "code",
   "execution_count": 187,
   "metadata": {},
   "outputs": [],
   "source": [
    "y_train = df_train[:,0]"
   ]
  },
  {
   "cell_type": "code",
   "execution_count": 188,
   "metadata": {},
   "outputs": [
    {
     "data": {
      "text/plain": [
       "array([[ 0., 60.,  0., ...,  3., 18.,  0.],\n",
       "       [ 0., 43.,  0., ...,  0.,  1.,  0.],\n",
       "       [ 0., 35.,  1., ...,  3., 10.,  0.],\n",
       "       ...,\n",
       "       [ 0., 46.,  0., ...,  0.,  1.,  0.],\n",
       "       [ 0., 50.,  0., ...,  0., 11.,  0.],\n",
       "       [ 0., 52.,  0., ...,  0.,  9.,  1.]])"
      ]
     },
     "execution_count": 188,
     "metadata": {},
     "output_type": "execute_result"
    }
   ],
   "source": [
    "X_train"
   ]
  },
  {
   "cell_type": "code",
   "execution_count": 189,
   "metadata": {},
   "outputs": [],
   "source": [
    "df_test.drop(columns='INDEX',inplace=True)"
   ]
  },
  {
   "cell_type": "code",
   "execution_count": 190,
   "metadata": {},
   "outputs": [],
   "source": [
    "df_test['INCOME'] = df_test['INCOME'].apply(income_process)\n",
    "df_test[\"INCOME\"] = pd.to_numeric(df_test[\"INCOME\"],errors='coerce')"
   ]
  },
  {
   "cell_type": "code",
   "execution_count": 191,
   "metadata": {},
   "outputs": [],
   "source": [
    "df_test['HOME_VAL'] = df_test['HOME_VAL'].apply(income_process)\n",
    "df_test['HOME_VAL'] = pd.to_numeric(df_test['HOME_VAL'],errors='coerce')"
   ]
  },
  {
   "cell_type": "code",
   "execution_count": 192,
   "metadata": {},
   "outputs": [],
   "source": [
    "df_test['BLUEBOOK'] = df_test['BLUEBOOK'].apply(income_process)\n",
    "df_test['BLUEBOOK'] = pd.to_numeric(df_test['BLUEBOOK'],errors='coerce')"
   ]
  },
  {
   "cell_type": "code",
   "execution_count": 193,
   "metadata": {},
   "outputs": [],
   "source": [
    "df_test['OLDCLAIM'] = df_test['OLDCLAIM'].apply(income_process)\n",
    "df_test['OLDCLAIM'] = pd.to_numeric(df_test['OLDCLAIM'],errors='coerce')"
   ]
  },
  {
   "cell_type": "code",
   "execution_count": 194,
   "metadata": {},
   "outputs": [],
   "source": [
    "from sklearn.preprocessing import OrdinalEncoder\n",
    "\n",
    "df_test.fillna(-1)\n",
    "\n",
    "enc = OrdinalEncoder(handle_unknown='use_encoded_value',\n",
    "                                 unknown_value=-1)\n",
    "df_test[['SEX', 'PARENT1', 'MSTATUS', 'CAR_USE', 'RED_CAR', 'REVOKED', 'URBANICITY',\n",
    "'EDUCATION', 'CAR_TYPE']] = enc.fit_transform(df_test[['SEX', 'PARENT1', 'MSTATUS', 'CAR_USE', 'RED_CAR', 'REVOKED', 'URBANICITY', 'EDUCATION', 'CAR_TYPE']])"
   ]
  },
  {
   "cell_type": "code",
   "execution_count": 195,
   "metadata": {},
   "outputs": [],
   "source": [
    "df_test['JOB'] = df_test['JOB'].map({'z_Blue Collar': 0, 'Home Maker': 1, 'Student': 2, 'Professional': 3, 'Manager' : 4, 'Clerical' : 5,  'Doctor': 6, 'Lawyer' : 7})\n",
    "df_test['JOB'] = pd.to_numeric(df_test['JOB'],errors='coerce')"
   ]
  },
  {
   "cell_type": "code",
   "execution_count": 196,
   "metadata": {},
   "outputs": [],
   "source": [
    "imputer = Pipeline([(\"imputer\", IterativeImputer(random_state=0)),\n",
    "                    (\"pandarizer\",FunctionTransformer(lambda x: pd.DataFrame(x, columns = df_test.columns)))])\n",
    "\n",
    "df_test = imputer.fit_transform(df_test)"
   ]
  },
  {
   "cell_type": "code",
   "execution_count": 197,
   "metadata": {},
   "outputs": [
    {
     "name": "stdout",
     "output_type": "stream",
     "text": [
      "<class 'pandas.core.frame.DataFrame'>\n",
      "RangeIndex: 2141 entries, 0 to 2140\n",
      "Data columns (total 23 columns):\n",
      " #   Column      Non-Null Count  Dtype  \n",
      "---  ------      --------------  -----  \n",
      " 0   KIDSDRIV    2141 non-null   float64\n",
      " 1   AGE         2141 non-null   float64\n",
      " 2   HOMEKIDS    2141 non-null   float64\n",
      " 3   YOJ         2141 non-null   float64\n",
      " 4   INCOME      2141 non-null   float64\n",
      " 5   PARENT1     2141 non-null   float64\n",
      " 6   HOME_VAL    2141 non-null   float64\n",
      " 7   MSTATUS     2141 non-null   float64\n",
      " 8   SEX         2141 non-null   float64\n",
      " 9   EDUCATION   2141 non-null   float64\n",
      " 10  JOB         2141 non-null   float64\n",
      " 11  TRAVTIME    2141 non-null   float64\n",
      " 12  CAR_USE     2141 non-null   float64\n",
      " 13  BLUEBOOK    2141 non-null   float64\n",
      " 14  TIF         2141 non-null   float64\n",
      " 15  CAR_TYPE    2141 non-null   float64\n",
      " 16  RED_CAR     2141 non-null   float64\n",
      " 17  OLDCLAIM    2141 non-null   float64\n",
      " 18  CLM_FREQ    2141 non-null   float64\n",
      " 19  REVOKED     2141 non-null   float64\n",
      " 20  MVR_PTS     2141 non-null   float64\n",
      " 21  CAR_AGE     2141 non-null   float64\n",
      " 22  URBANICITY  2141 non-null   float64\n",
      "dtypes: float64(23)\n",
      "memory usage: 384.8 KB\n"
     ]
    }
   ],
   "source": [
    "df_test.info()"
   ]
  },
  {
   "cell_type": "markdown",
   "metadata": {},
   "source": [
    "## <font color='grey'> We can move to the training phase : we choose a 10-fold cross-validation with 10 popular algorithms and our metrics will be precision and recall"
   ]
  },
  {
   "cell_type": "code",
   "execution_count": 198,
   "metadata": {},
   "outputs": [],
   "source": [
    "import xgboost as xgb\n",
    "from xgboost import XGBClassifier"
   ]
  },
  {
   "cell_type": "code",
   "execution_count": 199,
   "metadata": {},
   "outputs": [],
   "source": [
    "models = []\n",
    "models.append(('LR', LogisticRegression(solver='lbfgs',max_iter=10000,C=1)))\n",
    "models.append(('LDA', LinearDiscriminantAnalysis()))\n",
    "models.append(('KNN', KNeighborsClassifier(n_neighbors=30)))\n",
    "models.append(('CART', DecisionTreeClassifier()))\n",
    "models.append(('NB', GaussianNB()))\n",
    "models.append(('Ridge', RidgeClassifier()))\n",
    "models.append(('XGB', XGBClassifier(use_label_encoder=\"False\",eval_metric='logloss')))\n",
    "models.append(('ET', ExtraTreesClassifier()))\n",
    "models.append(('RF', RandomForestClassifier()))\n",
    "models.append(('Ridge', RidgeClassifier()))"
   ]
  },
  {
   "cell_type": "code",
   "execution_count": 200,
   "metadata": {},
   "outputs": [
    {
     "name": "stdout",
     "output_type": "stream",
     "text": [
      "Model: LR, Accuracy Mean: 0.737533 (0.004843)\n",
      "Model: LDA, Accuracy Mean: 0.780418 (0.011979)\n",
      "Model: KNN, Accuracy Mean: 0.743168 (0.006815)\n",
      "Model: CART, Accuracy Mean: 0.697954 (0.016477)\n",
      "Model: NB, Accuracy Mean: 0.730425 (0.005859)\n",
      "Model: Ridge, Accuracy Mean: 0.784707 (0.011139)\n",
      "Model: XGB, Accuracy Mean: 0.783726 (0.012507)\n",
      "Model: ET, Accuracy Mean: 0.788138 (0.010973)\n",
      "Model: RF, Accuracy Mean: 0.791079 (0.012588)\n",
      "Model: Ridge, Accuracy Mean: 0.784707 (0.011139)\n",
      "Model: LR, F1 Score Mean: 0.111639 (0.051247)\n",
      "Model: LDA, F1 Score Mean: 0.482327 (0.024497)\n",
      "Model: KNN, F1 Score Mean: 0.168166 (0.012397)\n",
      "Model: CART, F1 Score Mean: 0.444118 (0.030805)\n",
      "Model: NB, F1 Score Mean: 0.313248 (0.030952)\n",
      "Model: Ridge, F1 Score Mean: 0.449861 (0.033002)\n",
      "Model: XGB, F1 Score Mean: 0.535200 (0.022768)\n",
      "Model: ET, F1 Score Mean: 0.492009 (0.027287)\n",
      "Model: RF, F1 Score Mean: 0.482808 (0.033690)\n",
      "Model: Ridge, F1 Score Mean: 0.449861 (0.033002)\n"
     ]
    }
   ],
   "source": [
    "from sklearn import metrics\n",
    "from sklearn.metrics import f1_score\n",
    "\n",
    "models_results = []\n",
    "models_results_f1 = []\n",
    "for name, model in models:\n",
    "    results = []\n",
    "    results_f1 = []\n",
    "    skfolds = StratifiedKFold(n_splits=10,random_state=0,shuffle=True)\n",
    "    for train_index, test_index in skfolds.split(X_train, y_train):\n",
    "        X_train_folds = X_train[train_index]\n",
    "        y_train_folds = (y_train[train_index])\n",
    "        X_test_folds = X_train[test_index]\n",
    "        y_test_folds = (y_train[test_index])\n",
    "\n",
    "        model.fit(X_train_folds, y_train_folds)\n",
    "        pred = model.predict(X_test_folds)\n",
    "        correct = sum(pred == y_test_folds)\n",
    "        results.append(correct / len(pred))\n",
    "        score_f1 = f1_score(y_test_folds, pred)\n",
    "        results_f1.append(score_f1)\n",
    "    models_results.append((name, results))\n",
    "    models_results_f1.append((name,results_f1))\n",
    "\n",
    "\n",
    "names = []\n",
    "scores = []\n",
    "scores_f1 = []\n",
    "# the snippet below calculates the mean of the accuracies\n",
    "for name, results in models_results :\n",
    "    mean = np.array(results).mean()\n",
    "    std = np.array(results).std()\n",
    "    print(\"Model: %s, Accuracy Mean: %f (%f)\" % (name, mean, std))\n",
    "    names.append(name)\n",
    "    scores.append(results)\n",
    "\n",
    "for name, results_f1 in models_results_f1 :\n",
    "    mean_f1 = np.array(results_f1).mean()\n",
    "    std_f1 = np.array(results_f1).std()\n",
    "    print(\"Model: %s, F1 Score Mean: %f (%f)\" % (name, mean_f1, std_f1))\n",
    "    scores_f1.append(results_f1)"
   ]
  },
  {
   "cell_type": "markdown",
   "metadata": {},
   "source": [
    "## <font color='grey'> Let's compute the relative importance of each variable during the training of the Extra Trees Classifier, one of the better-performing algorithms :"
   ]
  },
  {
   "cell_type": "code",
   "execution_count": 201,
   "metadata": {},
   "outputs": [],
   "source": [
    "def plot_feature_importance(importance,names,model_type):\n",
    "\n",
    "#Create arrays from feature importance and feature names\n",
    "    feature_importance = np.array(importance)\n",
    "    feature_names = np.array(names)\n",
    "\n",
    "#Create a DataFrame using a Dictionary\n",
    "    data={'feature_names':feature_names,'feature_importance':feature_importance}\n",
    "    fi_df = pd.DataFrame(data)\n",
    "\n",
    "#Sort the DataFrame in order decreasing feature importance\n",
    "    fi_df.sort_values(by=['feature_importance'], ascending=False,inplace=True)\n",
    "\n",
    "#Define size of bar plot\n",
    "    plt.figure(figsize=(10,8))\n",
    "#Plot Searborn bar chart\n",
    "    sns.barplot(x=fi_df['feature_importance'], y=fi_df['feature_names'])\n",
    "#Add chart labels\n",
    "    plt.title(model_type + ' FEATURE IMPORTANCE')\n",
    "    plt.xlabel('FEATURE IMPORTANCE')\n",
    "    plt.ylabel('FEATURE NAMES')\n"
   ]
  },
  {
   "cell_type": "code",
   "execution_count": 202,
   "metadata": {},
   "outputs": [
    {
     "data": {
      "image/png": "[encoded data removed]",
      "text/plain": [
       "<Figure size 720x576 with 1 Axes>"
      ]
     },
     "metadata": {
      "needs_background": "light"
     },
     "output_type": "display_data"
    }
   ],
   "source": [
    "clf = ExtraTreesClassifier()\n",
    "clf.fit(X_train,y_train)\n",
    "plot_feature_importance(clf.feature_importances_,df_test.columns,'Extra Trees Classifier')"
   ]
  },
  {
   "cell_type": "code",
   "execution_count": 203,
   "metadata": {},
   "outputs": [],
   "source": [
    "from sklearn.model_selection import KFold\n",
    "from sklearn.metrics import confusion_matrix\n",
    "from sklearn.metrics import recall_score\n",
    "\n",
    "def score_classifier(dataset,classifier,labels):\n",
    "\n",
    "    \"\"\"\n",
    "    performs 10 random trainings/tests to build a confusion matrix and prints results with precision and recall scores\n",
    "    :param dataset: the dataset to work on\n",
    "    :param classifier: the classifier to use\n",
    "    :param labels: the labels used for training and validation\n",
    "    :return:\n",
    "    \"\"\"\n",
    "\n",
    "    kf = StratifiedKFold(n_splits=10,random_state=0,shuffle=True)\n",
    "    confusion_mat = np.zeros((2,2))\n",
    "    recalls = []\n",
    "    for training_ids,test_ids in kf.split(dataset,labels):\n",
    "        training_set = dataset[training_ids]\n",
    "        training_labels = labels[training_ids]\n",
    "        test_set = dataset[test_ids]\n",
    "        test_labels = labels[test_ids]\n",
    "        classifier.fit(training_set,training_labels)\n",
    "        predicted_labels = classifier.predict(test_set)\n",
    "        confusion_mat+=confusion_matrix(test_labels,predicted_labels)\n",
    "        recalls.append(recall_score(test_labels, predicted_labels))\n",
    "    #print(confusion_mat)\n",
    "    return(recalls)"
   ]
  },
  {
   "cell_type": "code",
   "execution_count": 204,
   "metadata": {},
   "outputs": [],
   "source": [
    "liste_recalls = []\n",
    "\n",
    "for name, model in models:\n",
    "    liste_recalls.append(score_classifier(X_train,model,y_train))"
   ]
  },
  {
   "cell_type": "code",
   "execution_count": 205,
   "metadata": {},
   "outputs": [
    {
     "data": {
      "image/png": "[encoded data removed]",
      "text/plain": [
       "<Figure size 432x288 with 1 Axes>"
      ]
     },
     "metadata": {
      "needs_background": "light"
     },
     "output_type": "display_data"
    }
   ],
   "source": [
    "fig = plt.figure()\n",
    "fig.suptitle('Models precision')\n",
    "ax = fig.add_subplot(111)\n",
    "plt.boxplot(scores)\n",
    "ax.set_xticklabels(names)\n",
    "plt.show()\n",
    "plt.close()"
   ]
  },
  {
   "cell_type": "code",
   "execution_count": 206,
   "metadata": {},
   "outputs": [
    {
     "data": {
      "image/png": "[encoded data removed]",
      "text/plain": [
       "<Figure size 432x288 with 1 Axes>"
      ]
     },
     "metadata": {
      "needs_background": "light"
     },
     "output_type": "display_data"
    }
   ],
   "source": [
    "fig = plt.figure()\n",
    "fig.suptitle('Models recall')\n",
    "ax = fig.add_subplot(111)\n",
    "plt.boxplot(liste_recalls)\n",
    "ax.set_xticklabels(names)\n",
    "plt.show()\n",
    "plt.close()"
   ]
  },
  {
   "cell_type": "markdown",
   "metadata": {},
   "source": [
    "We see that the best models have a precision of roughly 80% and a lower recall, between 0.4 et 0.5. We still need to do hyperparameter tuning and some transformations on the dataset (such as taking the logarithm of the amount columns) to get a satisfying precision and recall."
   ]
  },
  {
   "cell_type": "markdown",
   "metadata": {},
   "source": [
    "#### We can now make predictions and export them with the csv format."
   ]
  },
  {
   "cell_type": "code",
   "execution_count": 207,
   "metadata": {},
   "outputs": [
    {
     "data": {
      "text/plain": [
       "array([0., 0., 0., 0., 0., 0., 0., 0., 0., 0., 0., 0., 1., 0., 0., 1., 0.,\n",
       "       0., 1., 0.])"
      ]
     },
     "execution_count": 207,
     "metadata": {},
     "output_type": "execute_result"
    }
   ],
   "source": [
    "clf = RandomForestClassifier()\n",
    "clf.fit(X_train, y_train)\n",
    "predictions = clf.predict(df_test)\n",
    "predictions[:20]"
   ]
  },
  {
   "cell_type": "code",
   "execution_count": 208,
   "metadata": {},
   "outputs": [],
   "source": [
    "df_test['TARGET_FLAG'] = predictions"
   ]
  },
  {
   "cell_type": "code",
   "execution_count": 147,
   "metadata": {},
   "outputs": [],
   "source": [
    "prediction = pd.DataFrame(df_test).to_csv('prediction.csv')"
   ]
  }
 ],
 "metadata": {
  "kernelspec": {
   "display_name": "Python 3",
   "language": "python",
   "name": "python3"
  },
  "language_info": {
   "codemirror_mode": {
    "name": "ipython",
    "version": 3
   },
   "file_extension": ".py",
   "mimetype": "text/x-python",
   "name": "python",
   "nbconvert_exporter": "python",
   "pygments_lexer": "ipython3",
   "version": "3.8.5"
  }
 },
 "nbformat": 4,
 "nbformat_minor": 4
}
